{
 "cells": [
  {
   "cell_type": "code",
   "execution_count": 1,
   "id": "931d2bf6",
   "metadata": {},
   "outputs": [],
   "source": [
    "# Open the file containing all SQL queries\n",
    "with open('query_0.sql', 'r') as file:\n",
    "    content = file.read()\n",
    "\n",
    "# Split the content into a list of queries using semicolons as delimiters\n",
    "queries = content.split(';')\n",
    "\n",
    "# Iterate through the queries and create a separate file for each\n",
    "for i, query in enumerate(queries):\n",
    "    # Generate a unique file name for each query (e.g., query1.sql, query2.sql, etc.)\n",
    "    file_name = f\"query{i + 1}.sql\"\n",
    "    \n",
    "    # Write the query into the corresponding file\n",
    "    with open(file_name, 'w') as output_file:\n",
    "        output_file.write(query)\n"
   ]
  }
 ],
 "metadata": {
  "kernelspec": {
   "display_name": "Python 3 (ipykernel)",
   "language": "python",
   "name": "python3"
  },
  "language_info": {
   "codemirror_mode": {
    "name": "ipython",
    "version": 3
   },
   "file_extension": ".py",
   "mimetype": "text/x-python",
   "name": "python",
   "nbconvert_exporter": "python",
   "pygments_lexer": "ipython3",
   "version": "3.9.7"
  }
 },
 "nbformat": 4,
 "nbformat_minor": 5
}
