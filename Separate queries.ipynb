{
 "cells": [
  {
   "cell_type": "code",
   "execution_count": 1,
   "id": "931d2bf6",
   "metadata": {},
   "outputs": [],
   "source": [
    "# Abre el archivo que contiene todas las consultas SQL\n",
    "with open('query_0.sql', 'r') as archivo:\n",
    "    contenido = archivo.read()\n",
    "\n",
    "# Divide el contenido en una lista de consultas usando el punto y coma como delimitador\n",
    "consultas = contenido.split(';')\n",
    "\n",
    "# Itera a través de las consultas y crea un archivo separado para cada una\n",
    "for i, consulta in enumerate(consultas):\n",
    "    # Genera un nombre de archivo único para cada consulta (por ejemplo, consulta1.sql, consulta2.sql, etc.)\n",
    "    nombre_archivo = f\"consulta{i + 1}.sql\"\n",
    "    \n",
    "    # Escribe la consulta en el archivo correspondiente\n",
    "    with open(nombre_archivo, 'w') as archivo_salida:\n",
    "        archivo_salida.write(consulta)\n"
   ]
  }
 ],
 "metadata": {
  "kernelspec": {
   "display_name": "Python 3 (ipykernel)",
   "language": "python",
   "name": "python3"
  },
  "language_info": {
   "codemirror_mode": {
    "name": "ipython",
    "version": 3
   },
   "file_extension": ".py",
   "mimetype": "text/x-python",
   "name": "python",
   "nbconvert_exporter": "python",
   "pygments_lexer": "ipython3",
   "version": "3.9.7"
  }
 },
 "nbformat": 4,
 "nbformat_minor": 5
}
